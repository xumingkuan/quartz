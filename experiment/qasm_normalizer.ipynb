{
 "cells": [
  {
   "cell_type": "code",
   "execution_count": 1,
   "metadata": {},
   "outputs": [],
   "source": [
    "# normalize a circuit from QpenQASM 3.0 to Quartz readable qasm\n",
    "# Gate set: rigetti\n",
    "\n",
    "import os\n",
    "from os.path import join, isfile"
   ]
  },
  {
   "cell_type": "code",
   "execution_count": 2,
   "metadata": {},
   "outputs": [],
   "source": [
    "qasm_path = os.getcwd() + '/rigetti_circs/'\n",
    "qasm_fns = [fn for fn in os.listdir(qasm_path) if isfile(join(qasm_path, fn)) and fn[-4:] == 'qasm' and fn[0] != '_']\n",
    "qasm_full_paths = [qasm_path + fn for fn in qasm_fns]"
   ]
  },
  {
   "cell_type": "code",
   "execution_count": 3,
   "metadata": {},
   "outputs": [],
   "source": [
    "for qasm_fn in qasm_full_paths:\n",
    "    with open(qasm_fn, 'r') as f:\n",
    "        text: str = f.read()\n",
    "        lines: list[str] = text.split('\\n')\n",
    "        lines = [line for line in lines if line != '' and line[:2] != '//']\n",
    "        lines = [line for line in lines if line[:7] != 'barrier' and line[:7] != 'measure']\n",
    "        lines = [line for line in lines if line[:7] != 'rz(0.0)']\n",
    "\n",
    "        new_lines: list[str] = []\n",
    "        for line in lines:\n",
    "            line += '\\n'\n",
    "            if line[:2] == \"rx\":\n",
    "                if line[:8] == \"rx(pi/2)\":\n",
    "                    new_lines.append(line.replace(\"rx(pi/2)\", \"rx1\"))\n",
    "                elif line[:6] == \"rx(pi)\":\n",
    "                    new_lines.append(line.replace(\"rx(pi)\", \"x\"))\n",
    "            else:\n",
    "                new_lines.append(line)\n",
    "\n",
    "    with open(f\"{qasm_fn[:-5]}_norm.qasm\", 'w') as f:\n",
    "        f.writelines(new_lines)"
   ]
  },
  {
   "cell_type": "code",
   "execution_count": 5,
   "metadata": {},
   "outputs": [
    {
     "ename": "",
     "evalue": "",
     "output_type": "error",
     "traceback": [
      "\u001b[1;31mCanceled future for execute_request message before replies were done"
     ]
    },
    {
     "ename": "",
     "evalue": "",
     "output_type": "error",
     "traceback": [
      "\u001b[1;31mThe Kernel crashed while executing code in the the current cell or a previous cell. Please review the code in the cell(s) to identify a possible cause of the failure. Click <a href='https://aka.ms/vscodeJupyterKernelCrash'>here</a> for more info. View Jupyter <a href='command:jupyter.viewOutput'>log</a> for further details."
     ]
    }
   ],
   "source": [
    "import quartz\n",
    "\n",
    "quartz_context = quartz.QuartzContext(gate_set=['cz', 'x', 'rz', 'add', 'rx1', 'rx3'], filename='ecc_set/rigetti_4_ecc.json')\n",
    "for qasm_fn in qasm_full_paths:\n",
    "    print(qasm_fn)\n",
    "    if qasm_fn.find(\"norm\") == -1:\n",
    "        continue\n",
    "    circ = quartz.PyGraph.from_qasm(context=quartz_context, filename=qasm_fn)\n",
    "    print(circ.to_qasm_str())"
   ]
  }
 ],
 "metadata": {
  "kernelspec": {
   "display_name": "Python 3.9.12 ('quantum')",
   "language": "python",
   "name": "python3"
  },
  "language_info": {
   "codemirror_mode": {
    "name": "ipython",
    "version": 3
   },
   "file_extension": ".py",
   "mimetype": "text/x-python",
   "name": "python",
   "nbconvert_exporter": "python",
   "pygments_lexer": "ipython3",
   "version": "3.9.12"
  },
  "orig_nbformat": 4,
  "vscode": {
   "interpreter": {
    "hash": "96b51c792a6989d4839d314c065544fba67e314d7b530d0571cf3625bc1ceb7e"
   }
  }
 },
 "nbformat": 4,
 "nbformat_minor": 2
}
